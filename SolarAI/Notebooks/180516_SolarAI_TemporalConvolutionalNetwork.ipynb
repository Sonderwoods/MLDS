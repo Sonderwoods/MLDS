{
 "cells": [
  {
   "cell_type": "markdown",
   "metadata": {},
   "source": [
    "### Introduction"
   ]
  },
  {
   "cell_type": "markdown",
   "metadata": {},
   "source": [
    "#### Importing necessary libraries"
   ]
  },
  {
   "cell_type": "code",
   "execution_count": 1,
   "metadata": {
    "ExecuteTime": {
     "end_time": "2018-05-16T10:03:27.876484Z",
     "start_time": "2018-05-16T10:03:25.907750Z"
    }
   },
   "outputs": [
    {
     "name": "stderr",
     "output_type": "stream",
     "text": [
      "C:\\Users\\user\\Anaconda3\\lib\\site-packages\\h5py\\__init__.py:36: FutureWarning: Conversion of the second argument of issubdtype from `float` to `np.floating` is deprecated. In future, it will be treated as `np.float64 == np.dtype(float).type`.\n",
      "  from ._conv import register_converters as _register_converters\n",
      "Using TensorFlow backend.\n"
     ]
    }
   ],
   "source": [
    "import matplotlib.pyplot as plt\n",
    "%matplotlib inline\n",
    "import seaborn as sns\n",
    "import numpy as np\n",
    "import glob\n",
    "import os\n",
    "\n",
    "from pylab import *\n",
    "from PIL import Image \n",
    "import cv2 as cv\n",
    "\n",
    "from keras.layers import Input, Dense, Lambda, Layer, Add, Multiply, Conv2D, MaxPooling2D, UpSampling2D\n",
    "from keras.models import Model, Sequential\n",
    "from keras import backend as K\n",
    "from keras import metrics\n",
    "from keras.datasets import mnist\n",
    "from keras.callbacks import TensorBoard, EarlyStopping, ModelCheckpoint\n",
    "from keras.utils import to_categorical"
   ]
  },
  {
   "cell_type": "markdown",
   "metadata": {},
   "source": [
    "#### Getting local directory and load image data"
   ]
  },
  {
   "cell_type": "code",
   "execution_count": 2,
   "metadata": {
    "ExecuteTime": {
     "end_time": "2018-05-16T10:03:28.008186Z",
     "start_time": "2018-05-16T10:03:27.877986Z"
    }
   },
   "outputs": [],
   "source": [
    "#Get current working directory\n",
    "cwd = os.getcwd()\n",
    "\n",
    "path = cwd[:-9] + \"\\\\Images\"                     \n",
    "all_files = glob.glob(os.path.join(path, \"*.png\")) # OS independent\n",
    "all_files.sort(key=os.path.getmtime) #sort by time created to get the same order of results"
   ]
  },
  {
   "cell_type": "markdown",
   "metadata": {},
   "source": [
    "#### Get labels (climate zone) from file names"
   ]
  },
  {
   "cell_type": "code",
   "execution_count": 3,
   "metadata": {
    "ExecuteTime": {
     "end_time": "2018-05-16T10:03:28.311652Z",
     "start_time": "2018-05-16T10:03:28.299634Z"
    }
   },
   "outputs": [],
   "source": [
    "y = np.empty((len(all_files), 1))\n",
    "\n",
    "for i in range(0, len(all_files)):\n",
    "    y[i] = all_files[i].split('\\\\')[-1].split('_')[-2]"
   ]
  },
  {
   "cell_type": "markdown",
   "metadata": {},
   "source": [
    "#### Crop, rescale and grayscale images; save resulting images in a numpy array"
   ]
  },
  {
   "cell_type": "code",
   "execution_count": 4,
   "metadata": {
    "ExecuteTime": {
     "end_time": "2018-05-16T10:03:39.974635Z",
     "start_time": "2018-05-16T10:03:36.515340Z"
    }
   },
   "outputs": [],
   "source": [
    "##First 456 pictures have different boundaries, so we crop them here separately\n",
    "\n",
    "#Initial dimensions of the images, after cropping: in this case 745 x 745\n",
    "init_height, init_width = 745, 745\n",
    "#Target dimension, change this to the dimension you want\n",
    "target_height, target_width = 80, 80\n",
    "#Resize factors\n",
    "fx, fy = (target_height / init_height), (target_width / init_width)\n",
    "#Create an array to save arrays of images\n",
    "Results_a = np.empty((456, target_height, target_width))\n",
    "\n",
    "for i in range(0, 456):\n",
    "    im = Image.open(all_files[i])\n",
    "    im = im.crop((25,25,770,770))\n",
    "    im = im.convert('L')\n",
    "    im_resized = cv.resize(np.array(im), None, fx=fx, fy=fy, interpolation = cv.INTER_AREA)\n",
    "    im_resized = im_resized / 255\n",
    "    Results_a[i] = im_resized"
   ]
  },
  {
   "cell_type": "code",
   "execution_count": 5,
   "metadata": {
    "ExecuteTime": {
     "end_time": "2018-05-16T10:04:09.135281Z",
     "start_time": "2018-05-16T10:03:39.975638Z"
    },
    "scrolled": true
   },
   "outputs": [],
   "source": [
    "##This is for the rest of the pictures\n",
    "\n",
    "#Initial dimensions of the images, after cropping: in this case 610 x 610\n",
    "init_height2, init_width2 = 610, 610\n",
    "#Resize factors\n",
    "fx2, fy2 = (target_height / init_height2), (target_width / init_width2)\n",
    "#Create an array to save arrays of images\n",
    "Results_b = np.empty((4728, target_height, target_width))\n",
    "\n",
    "for i in range(4728):\n",
    "    im = Image.open(all_files[i+456])\n",
    "    im = im.crop((90, 90,700,700))\n",
    "    im = im.convert('L')\n",
    "    im_resized = cv.resize(np.array(im), None, fx=fx2, fy=fy2, interpolation = cv.INTER_AREA)\n",
    "    im_resized = im_resized / 255\n",
    "    Results_b[i] = im_resized"
   ]
  },
  {
   "cell_type": "code",
   "execution_count": 6,
   "metadata": {
    "ExecuteTime": {
     "end_time": "2018-05-16T10:04:09.374900Z",
     "start_time": "2018-05-16T10:04:09.136284Z"
    }
   },
   "outputs": [
    {
     "name": "stdout",
     "output_type": "stream",
     "text": [
      "Result shape is: (5184, 80, 80)\n",
      "Training set shape is: (4148, 6400, 1)\n",
      "Testing set shape is: (1036, 6400, 1)\n",
      "Total number of rows are: 5184\n",
      "(4148, 3, 1)\n",
      "(1036, 3, 1)\n"
     ]
    }
   ],
   "source": [
    "#Merge both result arrays\n",
    "Results = np.vstack((Results_a, Results_b))\n",
    "print('Result shape is:', Results.shape)\n",
    "\n",
    "#Generate train and test sets\n",
    "import random\n",
    "a = random.sample(range(0, len(Results)), int(len(Results)*0.2))\n",
    "np.random.shuffle(a)\n",
    "mask = np.ones(len(Results), dtype=bool)\n",
    "mask[a] = False\n",
    "\n",
    "X_train = Results[mask].reshape(-1,target_height*target_width, 1)\n",
    "X_test = Results[a].reshape(-1,target_height*target_width, 1)\n",
    "\n",
    "y_train = y[mask]\n",
    "y_train = to_categorical(y_train, 3)\n",
    "y_test = y[a]\n",
    "y_test = to_categorical(y_test, 3)\n",
    "y_train = np.expand_dims(y_train, axis=2)\n",
    "y_test = np.expand_dims(y_test, axis=2)\n",
    "print('Training set shape is:', X_train.shape)\n",
    "print('Testing set shape is:', X_test.shape)\n",
    "print('Total number of rows are:', (len(X_train)+len(X_test)))\n",
    "print(y_train.shape)\n",
    "print(y_test.shape)"
   ]
  },
  {
   "cell_type": "markdown",
   "metadata": {},
   "source": [
    "#### Create the ZCA Whitening matrix (optional to test)"
   ]
  },
  {
   "cell_type": "markdown",
   "metadata": {},
   "source": [
    "https://martin-thoma.com/zca-whitening/"
   ]
  },
  {
   "cell_type": "markdown",
   "metadata": {},
   "source": [
    "https://en.wikipedia.org/wiki/Whitening_transformation"
   ]
  },
  {
   "cell_type": "code",
   "execution_count": null,
   "metadata": {},
   "outputs": [],
   "source": [
    "def zca_whitening_matrix(X):\n",
    "    \"\"\"\n",
    "    Function to compute ZCA whitening matrix (aka Mahalanobis whitening).\n",
    "    INPUT:  X: [M x N] matrix.\n",
    "        Rows: Variables\n",
    "        Columns: Observations\n",
    "    OUTPUT: ZCAMatrix: [M x M] matrix\n",
    "    \"\"\"\n",
    "    # Covariance matrix [column-wise variables]: Sigma = (X-mu)' * (X-mu) / N\n",
    "    sigma = np.cov(X, rowvar=True) # [M x M]\n",
    "    # Singular Value Decomposition. X = U * np.diag(S) * V\n",
    "    U,S,V = np.linalg.svd(sigma)\n",
    "        # U: [M x M] eigenvectors of sigma.\n",
    "        # S: [M x 1] eigenvalues of sigma.\n",
    "        # V: [M x M] transpose of U\n",
    "    # Whitening constant: prevents division by zero\n",
    "    epsilon = 1e-5\n",
    "    # ZCA Whitening matrix: U * Lambda * U'\n",
    "    ZCAMatrix = np.dot(U, np.dot(np.diag(1.0/np.sqrt(S + epsilon)), U.T)) # [M x M]\n",
    "    return ZCAMatrix"
   ]
  },
  {
   "cell_type": "markdown",
   "metadata": {},
   "source": [
    "#### Create the Temporal Convolutional Network (TCN) model"
   ]
  },
  {
   "cell_type": "markdown",
   "metadata": {},
   "source": [
    "https://arxiv.org/abs/1608.08242"
   ]
  },
  {
   "cell_type": "markdown",
   "metadata": {},
   "source": [
    "https://github.com/philipperemy/keras-tcn"
   ]
  },
  {
   "cell_type": "code",
   "execution_count": 7,
   "metadata": {
    "ExecuteTime": {
     "end_time": "2018-05-16T10:04:12.220022Z",
     "start_time": "2018-05-16T10:04:09.375900Z"
    }
   },
   "outputs": [
    {
     "name": "stderr",
     "output_type": "stream",
     "text": [
      "C:\\Users\\user\\Anaconda3\\lib\\site-packages\\keras\\legacy\\layers.py:741: UserWarning: The `AtrousConvolution1D` layer  has been deprecated. Use instead the `Conv1D` layer with the `dilation_rate` argument.\n",
      "  warnings.warn('The `AtrousConvolution1D` layer '\n",
      "C:\\Users\\user\\Anaconda3\\lib\\site-packages\\tcn\\tcn.py:38: UserWarning: The `Merge` layer is deprecated and will be removed after 08/2017. Use instead layers from `keras.layers.merge`, e.g. `add`, `concatenate`, etc.\n",
      "  res_x = Merge(mode='sum')([original_x, x])\n"
     ]
    },
    {
     "name": "stdout",
     "output_type": "stream",
     "text": [
      "x.shape= (?, 64)\n",
      "model.x = (?, 6400, 1)\n",
      "model.y = (?, 3)\n",
      "Adam with norm clipping.\n"
     ]
    },
    {
     "name": "stderr",
     "output_type": "stream",
     "text": [
      "C:\\Users\\user\\Anaconda3\\lib\\site-packages\\tcn\\tcn.py:62: UserWarning: The `Merge` layer is deprecated and will be removed after 08/2017. Use instead layers from `keras.layers.merge`, e.g. `add`, `concatenate`, etc.\n",
      "  x = Merge(mode='sum')(skip_connections)\n"
     ]
    }
   ],
   "source": [
    "from tcn import tcn\n",
    "\n",
    "model = tcn.dilated_tcn(output_slice_index='last',\n",
    "                        num_feat=1,\n",
    "                        num_classes=3,\n",
    "                        nb_filters=64,\n",
    "                        kernel_size=8,\n",
    "                        dilatations=[1, 2, 4, 8],\n",
    "                        nb_stacks=8,\n",
    "                        max_len=X_train.shape[1],\n",
    "                        activation='norm_relu')"
   ]
  },
  {
   "cell_type": "markdown",
   "metadata": {},
   "source": [
    "#### Train the model on the train data"
   ]
  },
  {
   "cell_type": "code",
   "execution_count": 8,
   "metadata": {
    "ExecuteTime": {
     "end_time": "2018-05-16T10:21:42.418312Z",
     "start_time": "2018-05-16T10:04:20.035272Z"
    }
   },
   "outputs": [
    {
     "name": "stdout",
     "output_type": "stream",
     "text": [
      "Train on 4148 samples, validate on 1036 samples\n",
      "Epoch 1/3\n",
      " - 350s - loss: 0.1686 - acc: 0.9407 - val_loss: 0.0044 - val_acc: 0.9981\n",
      "Epoch 2/3\n",
      " - 342s - loss: 0.0484 - acc: 0.9923 - val_loss: 2.8347e-06 - val_acc: 1.0000\n",
      "Epoch 3/3\n",
      " - 341s - loss: 0.0477 - acc: 0.9920 - val_loss: 1.5212e-05 - val_acc: 1.0000\n"
     ]
    },
    {
     "data": {
      "text/plain": [
       "<keras.callbacks.History at 0x238d7ffb748>"
      ]
     },
     "execution_count": 8,
     "metadata": {},
     "output_type": "execute_result"
    }
   ],
   "source": [
    "model.fit(X_train, y_train.squeeze().argmax(axis=1), epochs=3, batch_size=5,\n",
    "          validation_data=(X_test, y_test.squeeze().argmax(axis=1)), verbose=2)"
   ]
  },
  {
   "cell_type": "markdown",
   "metadata": {},
   "source": [
    "#### Predict labels and evaluate model performance"
   ]
  },
  {
   "cell_type": "code",
   "execution_count": 9,
   "metadata": {
    "ExecuteTime": {
     "end_time": "2018-05-16T11:07:21.911841Z",
     "start_time": "2018-05-16T11:07:05.530419Z"
    }
   },
   "outputs": [
    {
     "data": {
      "image/png": "[encoded data removed]",
      "text/plain": [
       "<matplotlib.figure.Figure at 0x23a290bc8d0>"
      ]
     },
     "metadata": {},
     "output_type": "display_data"
    }
   ],
   "source": [
    "from sklearn.metrics import confusion_matrix\n",
    "y_pred = model.predict(X_test)\n",
    "cm = confusion_matrix(y_test.squeeze().argmax(axis=1), y_pred.squeeze().argmax(axis=1))\n",
    "\n",
    "#Plot confusion matrix to visualise performance\n",
    "sns.heatmap(cm, fmt='d', annot=True,annot_kws={\"size\": 16})# font size\n",
    "plt.show()"
   ]
  },
  {
   "cell_type": "code",
   "execution_count": null,
   "metadata": {},
   "outputs": [],
   "source": []
  }
 ],
 "metadata": {
  "kernelspec": {
   "display_name": "Python 3",
   "language": "python",
   "name": "python3"
  },
  "language_info": {
   "codemirror_mode": {
    "name": "ipython",
    "version": 3
   },
   "file_extension": ".py",
   "mimetype": "text/x-python",
   "name": "python",
   "nbconvert_exporter": "python",
   "pygments_lexer": "ipython3",
   "version": "3.6.3"
  },
  "toc": {
   "base_numbering": 1,
   "nav_menu": {},
   "number_sections": true,
   "sideBar": true,
   "skip_h1_title": false,
   "title_cell": "Table of Contents",
   "title_sidebar": "Contents",
   "toc_cell": false,
   "toc_position": {},
   "toc_section_display": true,
   "toc_window_display": false
  }
 },
 "nbformat": 4,
 "nbformat_minor": 2
}
