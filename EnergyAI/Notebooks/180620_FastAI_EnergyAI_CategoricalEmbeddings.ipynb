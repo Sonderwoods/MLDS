{
 "cells": [
  {
   "cell_type": "markdown",
   "metadata": {},
   "source": [
    "# Structured data with fastai"
   ]
  },
  {
   "cell_type": "code",
   "execution_count": 1,
   "metadata": {
    "ExecuteTime": {
     "end_time": "2018-06-26T04:16:27.339243Z",
     "start_time": "2018-06-26T04:16:26.931334Z"
    }
   },
   "outputs": [],
   "source": [
    "%matplotlib inline\n",
    "%reload_ext autoreload\n",
    "%autoreload 2"
   ]
  },
  {
   "cell_type": "code",
   "execution_count": 2,
   "metadata": {
    "ExecuteTime": {
     "end_time": "2018-06-26T04:16:29.029726Z",
     "start_time": "2018-06-26T04:16:27.340241Z"
    }
   },
   "outputs": [],
   "source": [
    "%matplotlib inline\n",
    "import matplotlib as mpl\n",
    "from matplotlib import colors\n",
    "import matplotlib.pyplot as plt\n",
    "import seaborn as sns\n",
    "sns.set(style='ticks')\n",
    "from sklearn.metrics import mean_absolute_error, r2_score\n",
    "import yellowbrick\n",
    "from fastai.structured import *\n",
    "from fastai.column_data import *\n",
    "np.set_printoptions(threshold=50, edgeitems=20)\n",
    "PATH=Path(r'D:\\Research\\MLDS-master\\EnergyAI\\Notebooks')"
   ]
  },
  {
   "cell_type": "markdown",
   "metadata": {
    "collapsed": true,
    "scrolled": false
   },
   "source": [
    "## Dataset"
   ]
  },
  {
   "cell_type": "code",
   "execution_count": 3,
   "metadata": {
    "ExecuteTime": {
     "end_time": "2018-06-26T04:16:29.504457Z",
     "start_time": "2018-06-26T04:16:29.030723Z"
    }
   },
   "outputs": [],
   "source": [
    "Data = pd.read_csv(PATH/'Energy_Results.csv')"
   ]
  },
  {
   "cell_type": "code",
   "execution_count": 4,
   "metadata": {
    "ExecuteTime": {
     "end_time": "2018-06-26T04:16:29.639098Z",
     "start_time": "2018-06-26T04:16:29.505454Z"
    }
   },
   "outputs": [],
   "source": [
    "Data['Consumption'] = Data['Cooling'] + Data['Heating'] + Data['Lighting'] + Data['Fans'] + Data['Pumps']"
   ]
  },
  {
   "cell_type": "code",
   "execution_count": 5,
   "metadata": {
    "ExecuteTime": {
     "end_time": "2018-06-26T04:16:29.821610Z",
     "start_time": "2018-06-26T04:16:29.641092Z"
    },
    "scrolled": true
   },
   "outputs": [
    {
     "data": {
      "text/html": [
       "<div>\n",
       "<style scoped>\n",
       "    .dataframe tbody tr th:only-of-type {\n",
       "        vertical-align: middle;\n",
       "    }\n",
       "\n",
       "    .dataframe tbody tr th {\n",
       "        vertical-align: top;\n",
       "    }\n",
       "\n",
       "    .dataframe thead th {\n",
       "        text-align: right;\n",
       "    }\n",
       "</style>\n",
       "<table border=\"1\" class=\"dataframe\">\n",
       "  <thead>\n",
       "    <tr style=\"text-align: right;\">\n",
       "      <th></th>\n",
       "      <th>ClimateZone</th>\n",
       "      <th>Orientation</th>\n",
       "      <th>WWR</th>\n",
       "      <th>GlazingType</th>\n",
       "      <th>SHGC</th>\n",
       "      <th>OverhangLength</th>\n",
       "      <th>HVAC</th>\n",
       "      <th>HeatRecovery</th>\n",
       "      <th>Consumption</th>\n",
       "    </tr>\n",
       "  </thead>\n",
       "  <tbody>\n",
       "    <tr>\n",
       "      <th>0</th>\n",
       "      <td>1</td>\n",
       "      <td>Core</td>\n",
       "      <td>20</td>\n",
       "      <td>DP</td>\n",
       "      <td>0.2</td>\n",
       "      <td>0.5</td>\n",
       "      <td>11</td>\n",
       "      <td>1</td>\n",
       "      <td>1097.463796</td>\n",
       "    </tr>\n",
       "    <tr>\n",
       "      <th>1</th>\n",
       "      <td>1</td>\n",
       "      <td>Core</td>\n",
       "      <td>20</td>\n",
       "      <td>DP</td>\n",
       "      <td>0.2</td>\n",
       "      <td>0.5</td>\n",
       "      <td>11</td>\n",
       "      <td>2</td>\n",
       "      <td>1064.910481</td>\n",
       "    </tr>\n",
       "    <tr>\n",
       "      <th>2</th>\n",
       "      <td>1</td>\n",
       "      <td>Core</td>\n",
       "      <td>20</td>\n",
       "      <td>DP</td>\n",
       "      <td>0.2</td>\n",
       "      <td>0.5</td>\n",
       "      <td>16</td>\n",
       "      <td>0</td>\n",
       "      <td>1950.238591</td>\n",
       "    </tr>\n",
       "    <tr>\n",
       "      <th>3</th>\n",
       "      <td>1</td>\n",
       "      <td>Core</td>\n",
       "      <td>20</td>\n",
       "      <td>DP</td>\n",
       "      <td>0.2</td>\n",
       "      <td>0.5</td>\n",
       "      <td>16</td>\n",
       "      <td>1</td>\n",
       "      <td>1764.380026</td>\n",
       "    </tr>\n",
       "    <tr>\n",
       "      <th>4</th>\n",
       "      <td>1</td>\n",
       "      <td>Core</td>\n",
       "      <td>20</td>\n",
       "      <td>DP</td>\n",
       "      <td>0.2</td>\n",
       "      <td>0.5</td>\n",
       "      <td>16</td>\n",
       "      <td>2</td>\n",
       "      <td>1682.937558</td>\n",
       "    </tr>\n",
       "  </tbody>\n",
       "</table>\n",
       "</div>"
      ],
      "text/plain": [
       "   ClimateZone Orientation  WWR GlazingType  SHGC  OverhangLength  HVAC  \\\n",
       "0            1        Core   20          DP   0.2             0.5    11   \n",
       "1            1        Core   20          DP   0.2             0.5    11   \n",
       "2            1        Core   20          DP   0.2             0.5    16   \n",
       "3            1        Core   20          DP   0.2             0.5    16   \n",
       "4            1        Core   20          DP   0.2             0.5    16   \n",
       "\n",
       "   HeatRecovery  Consumption  \n",
       "0             1  1097.463796  \n",
       "1             2  1064.910481  \n",
       "2             0  1950.238591  \n",
       "3             1  1764.380026  \n",
       "4             2  1682.937558  "
      ]
     },
     "execution_count": 5,
     "metadata": {},
     "output_type": "execute_result"
    }
   ],
   "source": [
    "Data.drop(labels=['AverageOpTemp', 'MinOpTemp', 'MaxOpTemp', 'AverageAirTemp', 'MinAirTemp', 'MaxAirTemp', \n",
    "                  'AverageMRT', 'MinMRT', 'MaxMRT', 'AverageRH', 'MinRH', 'MaxRH', 'PeakCoolingLoad',\n",
    "                  'PeakHeatingLoad', 'CoolingSizing', 'HeatingSizing', 'Cooling', 'Heating', 'Lighting',\n",
    "                  'Fans', 'Pumps'], axis=1, inplace=True)\n",
    "Data.head(5)"
   ]
  },
  {
   "cell_type": "code",
   "execution_count": 6,
   "metadata": {
    "ExecuteTime": {
     "end_time": "2018-06-26T04:16:31.811000Z",
     "start_time": "2018-06-26T04:16:31.694311Z"
    }
   },
   "outputs": [
    {
     "data": {
      "text/plain": [
       "45315"
      ]
     },
     "execution_count": 6,
     "metadata": {},
     "output_type": "execute_result"
    }
   ],
   "source": [
    "cat_vars = ['ClimateZone', 'Orientation', 'GlazingType', 'HVAC', 'HeatRecovery', 'WWR', 'SHGC', \n",
    "            'OverhangLength']\n",
    "\n",
    "#contin_vars = ['WWR', 'SHGC', 'OverhangLength']\n",
    "\n",
    "n = len(Data); n"
   ]
  },
  {
   "cell_type": "code",
   "execution_count": 7,
   "metadata": {
    "ExecuteTime": {
     "end_time": "2018-06-26T04:16:32.565982Z",
     "start_time": "2018-06-26T04:16:32.432339Z"
    }
   },
   "outputs": [],
   "source": [
    "for v in cat_vars: Data[v] = Data[v].astype('category').cat.as_ordered()\n",
    "#for v in contin_vars: Data[v] = Data[v].fillna(0).astype('float32')"
   ]
  },
  {
   "cell_type": "code",
   "execution_count": 8,
   "metadata": {
    "ExecuteTime": {
     "end_time": "2018-06-26T04:16:35.084322Z",
     "start_time": "2018-06-26T04:16:34.966637Z"
    }
   },
   "outputs": [],
   "source": [
    "def balanced_subsample(x,y,subsample_size=1.0):\n",
    "\n",
    "    class_xs = []\n",
    "    min_elems = None\n",
    "\n",
    "    for yi in np.unique(y):\n",
    "        elems = x[(y == yi)]\n",
    "        class_xs.append((yi, elems))\n",
    "        if min_elems == None or elems.shape[0] < min_elems:\n",
    "            min_elems = elems.shape[0]\n",
    "\n",
    "    use_elems = min_elems\n",
    "    if subsample_size < 1:\n",
    "        use_elems = int(min_elems*subsample_size)\n",
    "\n",
    "    xs = []\n",
    "    ys = []\n",
    "\n",
    "    for ci,this_xs in class_xs:\n",
    "        if len(this_xs) > use_elems:\n",
    "            this_xs = this_xs.reindex(np.random.permutation(this_xs.index))\n",
    "\n",
    "        x_ = this_xs[:use_elems]\n",
    "        y_ = np.empty(use_elems)\n",
    "        y_.fill(ci)\n",
    "\n",
    "        xs.append(x_)\n",
    "        ys.append(y_)\n",
    "\n",
    "    xs = pd.concat(xs)\n",
    "    xr = x.drop(labels=xs.index.values, axis=0)\n",
    "\n",
    "    return xs,xr"
   ]
  },
  {
   "cell_type": "code",
   "execution_count": 9,
   "metadata": {
    "ExecuteTime": {
     "end_time": "2018-06-26T04:16:35.936094Z",
     "start_time": "2018-06-26T04:16:35.756552Z"
    }
   },
   "outputs": [
    {
     "name": "stdout",
     "output_type": "stream",
     "text": [
      "Length of training dataset is:  9032\n",
      "Length of test dataset is:      36283\n"
     ]
    }
   ],
   "source": [
    "train_data, test_data = balanced_subsample(Data, Data['ClimateZone'], subsample_size=0.2)\n",
    "\n",
    "print('Length of training dataset is: ', len(train_data))\n",
    "print('Length of test dataset is:     ', len(test_data))"
   ]
  },
  {
   "cell_type": "code",
   "execution_count": 10,
   "metadata": {
    "ExecuteTime": {
     "end_time": "2018-06-26T04:16:37.534274Z",
     "start_time": "2018-06-26T04:16:37.411603Z"
    }
   },
   "outputs": [],
   "source": [
    "df_train, y, nas = proc_df(train_data, 'Consumption', do_scale=False)\n",
    "yl = np.log(y)"
   ]
  },
  {
   "cell_type": "code",
   "execution_count": 11,
   "metadata": {
    "ExecuteTime": {
     "end_time": "2018-06-26T04:16:38.170863Z",
     "start_time": "2018-06-26T04:16:38.051155Z"
    }
   },
   "outputs": [],
   "source": [
    "df_test, _, nas = proc_df(test_data, 'Consumption', do_scale=False, na_dict=nas)\n",
    "df_check = df_test"
   ]
  },
  {
   "cell_type": "markdown",
   "metadata": {},
   "source": [
    "## DL"
   ]
  },
  {
   "cell_type": "code",
   "execution_count": 12,
   "metadata": {
    "ExecuteTime": {
     "end_time": "2018-06-26T04:16:40.024300Z",
     "start_time": "2018-06-26T04:16:39.912493Z"
    }
   },
   "outputs": [],
   "source": [
    "def inv_y(a): return np.exp(a)\n",
    "\n",
    "def mae(y_pred, targ):\n",
    "    targ = inv_y(targ)\n",
    "    y_pred = inv_y(y_pred)\n",
    "    return np.average(np.abs(y_pred - targ))\n",
    "\n",
    "max_log_y = np.max(yl)\n",
    "y_range = (0, max_log_y*1.2)\n",
    "\n",
    "val_idx=[0]"
   ]
  },
  {
   "cell_type": "code",
   "execution_count": 13,
   "metadata": {
    "ExecuteTime": {
     "end_time": "2018-06-26T04:16:43.025196Z",
     "start_time": "2018-06-26T04:16:42.907506Z"
    }
   },
   "outputs": [],
   "source": [
    "md = ColumnarModelData.from_data_frame(PATH, val_idx, df_train, yl.astype(np.float32), cat_flds=cat_vars, \n",
    "                                       bs=128, test_df=df_test)"
   ]
  },
  {
   "cell_type": "markdown",
   "metadata": {},
   "source": [
    "Some categorical variables have a lot more levels than others. Store, in particular, has over a thousand!"
   ]
  },
  {
   "cell_type": "code",
   "execution_count": 14,
   "metadata": {
    "ExecuteTime": {
     "end_time": "2018-06-26T04:16:44.936880Z",
     "start_time": "2018-06-26T04:16:44.192118Z"
    }
   },
   "outputs": [],
   "source": [
    "cat_sz = [(c, len(train_data[c].cat.categories)+1) for c in cat_vars]"
   ]
  },
  {
   "cell_type": "code",
   "execution_count": 15,
   "metadata": {
    "ExecuteTime": {
     "end_time": "2018-06-26T04:16:45.055535Z",
     "start_time": "2018-06-26T04:16:44.938848Z"
    },
    "scrolled": true
   },
   "outputs": [
    {
     "data": {
      "text/plain": [
       "[('ClimateZone', 9),\n",
       " ('Orientation', 6),\n",
       " ('GlazingType', 3),\n",
       " ('HVAC', 4),\n",
       " ('HeatRecovery', 4),\n",
       " ('WWR', 8),\n",
       " ('SHGC', 4),\n",
       " ('OverhangLength', 4)]"
      ]
     },
     "execution_count": 15,
     "metadata": {},
     "output_type": "execute_result"
    }
   ],
   "source": [
    "cat_sz"
   ]
  },
  {
   "cell_type": "markdown",
   "metadata": {},
   "source": [
    "We use the *cardinality* of each variable (that is, its number of unique values) to decide how large to make its *embeddings*. Each level will be associated with a vector with length defined as below."
   ]
  },
  {
   "cell_type": "code",
   "execution_count": 16,
   "metadata": {
    "ExecuteTime": {
     "end_time": "2018-06-26T04:16:49.698736Z",
     "start_time": "2018-06-26T04:16:49.588028Z"
    }
   },
   "outputs": [],
   "source": [
    "emb_szs = [(c, max(50, (c+1)//2)) for _,c in cat_sz]"
   ]
  },
  {
   "cell_type": "code",
   "execution_count": 17,
   "metadata": {
    "ExecuteTime": {
     "end_time": "2018-06-26T04:16:50.146597Z",
     "start_time": "2018-06-26T04:16:50.028898Z"
    },
    "scrolled": true
   },
   "outputs": [
    {
     "data": {
      "text/plain": [
       "[(9, 50), (6, 50), (3, 50), (4, 50), (4, 50), (8, 50), (4, 50), (4, 50)]"
      ]
     },
     "execution_count": 17,
     "metadata": {},
     "output_type": "execute_result"
    }
   ],
   "source": [
    "emb_szs"
   ]
  },
  {
   "cell_type": "code",
   "execution_count": 18,
   "metadata": {
    "ExecuteTime": {
     "end_time": "2018-06-26T04:16:54.515438Z",
     "start_time": "2018-06-26T04:16:54.395643Z"
    }
   },
   "outputs": [],
   "source": [
    "m = md.get_learner(emb_szs, len(df_train.columns)-len(cat_vars), \n",
    "                   0.1, 1, [500,200], [0.01,0.1], y_range=y_range)\n",
    "lr = 1e-2"
   ]
  },
  {
   "cell_type": "code",
   "execution_count": 19,
   "metadata": {
    "ExecuteTime": {
     "end_time": "2018-06-26T04:16:56.257757Z",
     "start_time": "2018-06-26T04:16:55.293334Z"
    }
   },
   "outputs": [
    {
     "data": {
      "application/vnd.jupyter.widget-view+json": {
       "model_id": "d342af6361c542f7bf02fbf49c6d8a8b",
       "version_major": 2,
       "version_minor": 0
      },
      "text/plain": [
       "HBox(children=(IntProgress(value=0, description='Epoch', max=1), HTML(value='')))"
      ]
     },
     "metadata": {},
     "output_type": "display_data"
    },
    {
     "name": "stdout",
     "output_type": "stream",
     "text": [
      "epoch      trn_loss   val_loss                                                                                         \n",
      "    0      4.457324   9.901442  \n",
      "\n"
     ]
    }
   ],
   "source": [
    "m.lr_find()"
   ]
  },
  {
   "cell_type": "code",
   "execution_count": 20,
   "metadata": {
    "ExecuteTime": {
     "end_time": "2018-06-26T04:16:58.685767Z",
     "start_time": "2018-06-26T04:16:58.107343Z"
    }
   },
   "outputs": [
    {
     "data": {
      "image/png": "[encoded data removed]",
      "text/plain": [
       "<Figure size 576x396 with 1 Axes>"
      ]
     },
     "metadata": {},
     "output_type": "display_data"
    }
   ],
   "source": [
    "m.sched.plot()"
   ]
  },
  {
   "cell_type": "code",
   "execution_count": 21,
   "metadata": {
    "ExecuteTime": {
     "end_time": "2018-06-26T04:17:09.699153Z",
     "start_time": "2018-06-26T04:17:09.587452Z"
    }
   },
   "outputs": [],
   "source": [
    "lr = 1e-3"
   ]
  },
  {
   "cell_type": "code",
   "execution_count": 113,
   "metadata": {
    "ExecuteTime": {
     "end_time": "2018-06-26T04:31:15.369161Z",
     "start_time": "2018-06-26T04:31:11.133480Z"
    }
   },
   "outputs": [
    {
     "data": {
      "application/vnd.jupyter.widget-view+json": {
       "model_id": "17172ca8f98343c985edabfb57df6d13",
       "version_major": 2,
       "version_minor": 0
      },
      "text/plain": [
       "HBox(children=(IntProgress(value=0, description='Epoch', max=5), HTML(value='')))"
      ]
     },
     "metadata": {},
     "output_type": "display_data"
    },
    {
     "name": "stdout",
     "output_type": "stream",
     "text": [
      "epoch      trn_loss   val_loss   mae                                                                                   \n",
      "    0      0.002629   0.00077    33.017578 \n",
      "    1      0.003077   0.003607   70.314697                                                                             \n",
      "    2      0.003408   0.001195   40.99292                                                                              \n",
      "    3      0.00285    0.000931   36.241821                                                                             \n",
      "    4      0.002608   0.000859   34.83667                                                                              \n",
      "\n"
     ]
    },
    {
     "data": {
      "text/plain": [
       "[array([0.00086]), 34.836669921875]"
      ]
     },
     "execution_count": 113,
     "metadata": {},
     "output_type": "execute_result"
    }
   ],
   "source": [
    "m.fit(lr, 1, metrics=[mae], cycle_len=5, use_clr_beta=(50, 15, 0.95, 0.85))"
   ]
  },
  {
   "cell_type": "code",
   "execution_count": 39,
   "metadata": {
    "ExecuteTime": {
     "end_time": "2018-06-26T04:20:25.341213Z",
     "start_time": "2018-06-26T04:20:25.118808Z"
    }
   },
   "outputs": [
    {
     "data": {
      "image/png": "[encoded data removed]",
      "text/plain": [
       "<Figure size 576x396 with 1 Axes>"
      ]
     },
     "metadata": {},
     "output_type": "display_data"
    }
   ],
   "source": [
    "m.sched.plot_loss()"
   ]
  },
  {
   "cell_type": "code",
   "execution_count": 212,
   "metadata": {
    "ExecuteTime": {
     "end_time": "2018-06-26T04:49:46.654404Z",
     "start_time": "2018-06-26T04:49:16.634011Z"
    }
   },
   "outputs": [
    {
     "data": {
      "application/vnd.jupyter.widget-view+json": {
       "model_id": "664edbeb56cd4b0ab2ad262981eedd31",
       "version_major": 2,
       "version_minor": 0
      },
      "text/plain": [
       "HBox(children=(IntProgress(value=0, description='Epoch', max=15), HTML(value='')))"
      ]
     },
     "metadata": {},
     "output_type": "display_data"
    },
    {
     "name": "stdout",
     "output_type": "stream",
     "text": [
      "epoch      trn_loss   val_loss   mae                                                                                   \n",
      "    0      0.001056   5.9e-05    9.236694  \n",
      "    1      0.000984   5.4e-05    8.801025                                                                              \n",
      "    2      0.000994   4.4e-05    8.00708                                                                               \n",
      "    3      0.000996   5.5e-05    8.946655                                                                              \n",
      "    4      0.000985   4.1e-05    7.688843                                                                              \n",
      "    5      0.00103    4.9e-05    8.400757                                                                              \n",
      "    6      0.000996   3.7e-05    7.325317                                                                              \n",
      "    7      0.000954   3.1e-05    6.69104                                                                               \n",
      "    8      0.000984   5.3e-05    8.779419                                                                              \n",
      "    9      0.000958   4.4e-05    7.985962                                                                              \n",
      "    10     0.000973   3.3e-05    6.90271                                                                               \n",
      "    11     0.001007   3.9e-05    7.548218                                                                              \n",
      "    12     0.000984   4e-05      7.608276                                                                              \n",
      "    13     0.000978   4e-05      7.56189                                                                               \n",
      "    14     0.000963   4e-05      7.569946                                                                              \n",
      "\n"
     ]
    },
    {
     "data": {
      "text/plain": [
       "[array([0.00004]), 7.5699462890625]"
      ]
     },
     "execution_count": 212,
     "metadata": {},
     "output_type": "execute_result"
    }
   ],
   "source": [
    "m.fit(lr/32, 1, wds=1e-7, metrics=[mae], cycle_len=15, use_clr_beta=(50, 15, 0.95, 0.85))"
   ]
  },
  {
   "cell_type": "code",
   "execution_count": 213,
   "metadata": {
    "ExecuteTime": {
     "end_time": "2018-06-26T04:49:49.892991Z",
     "start_time": "2018-06-26T04:49:49.670559Z"
    }
   },
   "outputs": [
    {
     "data": {
      "image/png": "[encoded data removed]",
      "text/plain": [
       "<Figure size 576x396 with 1 Axes>"
      ]
     },
     "metadata": {},
     "output_type": "display_data"
    }
   ],
   "source": [
    "m.sched.plot_loss()"
   ]
  },
  {
   "cell_type": "code",
   "execution_count": 214,
   "metadata": {
    "ExecuteTime": {
     "end_time": "2018-06-26T04:49:52.188617Z",
     "start_time": "2018-06-26T04:49:51.389787Z"
    }
   },
   "outputs": [],
   "source": [
    "pred_test=m.predict(True)\n",
    "pred_test = np.exp(pred_test)"
   ]
  },
  {
   "cell_type": "code",
   "execution_count": 215,
   "metadata": {
    "ExecuteTime": {
     "end_time": "2018-06-26T04:49:55.835551Z",
     "start_time": "2018-06-26T04:49:54.822278Z"
    }
   },
   "outputs": [
    {
     "data": {
      "image/png": "[encoded data removed]",
      "text/plain": [
       "<Figure size 1800x720 with 1 Axes>"
      ]
     },
     "metadata": {},
     "output_type": "display_data"
    }
   ],
   "source": [
    "plt.figure(figsize=(25,10))\n",
    "plt.hist(test_data['Consumption'], bins=300, label='Real values')\n",
    "plt.hist(pred_test, bins=300, label='Predicted values')\n",
    "plt.title('Real vs Predicted Energy consumption values - using Entity embeddings of Categorical variables, for data stratified according to Climate Zone', fontsize=15)\n",
    "plt.text(4500, 200, (\"Mean absolute error: %.2f kWh\" % mean_absolute_error(test_data['Consumption'], pred_test)), fontsize=15)\n",
    "plt.text(4500, 170, (\"Explained variance:\" + \"{: .2%}\".format(r2_score(test_data['Consumption'], pred_test))), fontsize=15)\n",
    "plt.xlabel('kWh/year', fontsize=14)\n",
    "plt.ylabel('Number of designs', fontsize=14)\n",
    "plt.legend(loc='upper right')\n",
    "#plt.savefig(\"CategoricalEmbeddings_10.jpg\", dpi=200)\n",
    "plt.show()"
   ]
  },
  {
   "cell_type": "code",
   "execution_count": 208,
   "metadata": {
    "ExecuteTime": {
     "end_time": "2018-06-26T04:48:57.139028Z",
     "start_time": "2018-06-26T04:48:57.021932Z"
    }
   },
   "outputs": [],
   "source": [
    "m.save('reg5')"
   ]
  },
  {
   "cell_type": "code",
   "execution_count": 33,
   "metadata": {
    "ExecuteTime": {
     "end_time": "2018-06-19T21:24:19.311358Z",
     "start_time": "2018-06-19T21:24:19.201635Z"
    }
   },
   "outputs": [],
   "source": [
    "#m.load('val1')"
   ]
  },
  {
   "cell_type": "code",
   "execution_count": 209,
   "metadata": {
    "ExecuteTime": {
     "end_time": "2018-06-26T04:48:59.962103Z",
     "start_time": "2018-06-26T04:48:59.847902Z"
    }
   },
   "outputs": [],
   "source": [
    "y = test_data['Consumption'].values\n",
    "res = test_data['Consumption'].values[:, np.newaxis] - pred_test"
   ]
  },
  {
   "cell_type": "code",
   "execution_count": 210,
   "metadata": {
    "ExecuteTime": {
     "end_time": "2018-06-26T04:49:04.645964Z",
     "start_time": "2018-06-26T04:49:03.369515Z"
    },
    "scrolled": false
   },
   "outputs": [
    {
     "data": {
      "image/png": "[encoded data removed]",
      "text/plain": [
       "<Figure size 1800x1080 with 1 Axes>"
      ]
     },
     "metadata": {},
     "output_type": "display_data"
    }
   ],
   "source": [
    "plt.figure(figsize=(25,15))\n",
    "plt.scatter(y, res, alpha=0.9)\n",
    "plt.title('Residuals Plot - using Entity embeddings of Categorical variables, for data stratified according to Climate Zone', fontsize=15)\n",
    "plt.xlabel('kWh/year', fontsize=14)\n",
    "plt.ylabel('Residual', fontsize=14)\n",
    "plt.ylim((-2000, 3000))\n",
    "plt.savefig(\"Residuals_10.jpg\", dpi=200)\n",
    "plt.show()"
   ]
  },
  {
   "cell_type": "code",
   "execution_count": 211,
   "metadata": {
    "ExecuteTime": {
     "end_time": "2018-06-26T04:49:08.837406Z",
     "start_time": "2018-06-26T04:49:08.723710Z"
    }
   },
   "outputs": [],
   "source": [
    "df_check['Res7'] = res"
   ]
  },
  {
   "cell_type": "code",
   "execution_count": 216,
   "metadata": {
    "ExecuteTime": {
     "end_time": "2018-06-26T04:50:37.580406Z",
     "start_time": "2018-06-26T04:50:37.448759Z"
    }
   },
   "outputs": [
    {
     "data": {
      "text/html": [
       "<div>\n",
       "<style scoped>\n",
       "    .dataframe tbody tr th:only-of-type {\n",
       "        vertical-align: middle;\n",
       "    }\n",
       "\n",
       "    .dataframe tbody tr th {\n",
       "        vertical-align: top;\n",
       "    }\n",
       "\n",
       "    .dataframe thead th {\n",
       "        text-align: right;\n",
       "    }\n",
       "</style>\n",
       "<table border=\"1\" class=\"dataframe\">\n",
       "  <thead>\n",
       "    <tr style=\"text-align: right;\">\n",
       "      <th></th>\n",
       "      <th>ClimateZone</th>\n",
       "      <th>Orientation</th>\n",
       "      <th>WWR</th>\n",
       "      <th>GlazingType</th>\n",
       "      <th>SHGC</th>\n",
       "      <th>OverhangLength</th>\n",
       "      <th>HVAC</th>\n",
       "      <th>HeatRecovery</th>\n",
       "      <th>Res1</th>\n",
       "      <th>Res2</th>\n",
       "      <th>Res3</th>\n",
       "      <th>Res4</th>\n",
       "      <th>Res5</th>\n",
       "      <th>Res6</th>\n",
       "      <th>Res7</th>\n",
       "    </tr>\n",
       "  </thead>\n",
       "  <tbody>\n",
       "    <tr>\n",
       "      <th>0</th>\n",
       "      <td>1</td>\n",
       "      <td>1</td>\n",
       "      <td>1</td>\n",
       "      <td>1</td>\n",
       "      <td>1</td>\n",
       "      <td>2</td>\n",
       "      <td>2</td>\n",
       "      <td>2</td>\n",
       "      <td>179.701833</td>\n",
       "      <td>44.824513</td>\n",
       "      <td>27.460378</td>\n",
       "      <td>29.107106</td>\n",
       "      <td>14.492238</td>\n",
       "      <td>2.754323</td>\n",
       "      <td>6.315846</td>\n",
       "    </tr>\n",
       "    <tr>\n",
       "      <th>1</th>\n",
       "      <td>1</td>\n",
       "      <td>1</td>\n",
       "      <td>1</td>\n",
       "      <td>1</td>\n",
       "      <td>1</td>\n",
       "      <td>2</td>\n",
       "      <td>2</td>\n",
       "      <td>3</td>\n",
       "      <td>247.701436</td>\n",
       "      <td>94.849507</td>\n",
       "      <td>44.261433</td>\n",
       "      <td>30.785481</td>\n",
       "      <td>22.934163</td>\n",
       "      <td>-0.320354</td>\n",
       "      <td>3.230305</td>\n",
       "    </tr>\n",
       "    <tr>\n",
       "      <th>3</th>\n",
       "      <td>1</td>\n",
       "      <td>1</td>\n",
       "      <td>1</td>\n",
       "      <td>1</td>\n",
       "      <td>1</td>\n",
       "      <td>2</td>\n",
       "      <td>3</td>\n",
       "      <td>2</td>\n",
       "      <td>156.872580</td>\n",
       "      <td>7.391012</td>\n",
       "      <td>8.381735</td>\n",
       "      <td>4.069357</td>\n",
       "      <td>7.945456</td>\n",
       "      <td>0.488180</td>\n",
       "      <td>-1.296610</td>\n",
       "    </tr>\n",
       "    <tr>\n",
       "      <th>4</th>\n",
       "      <td>1</td>\n",
       "      <td>1</td>\n",
       "      <td>1</td>\n",
       "      <td>1</td>\n",
       "      <td>1</td>\n",
       "      <td>2</td>\n",
       "      <td>3</td>\n",
       "      <td>3</td>\n",
       "      <td>274.586239</td>\n",
       "      <td>91.998349</td>\n",
       "      <td>25.470395</td>\n",
       "      <td>17.298031</td>\n",
       "      <td>16.925473</td>\n",
       "      <td>21.730282</td>\n",
       "      <td>23.278988</td>\n",
       "    </tr>\n",
       "    <tr>\n",
       "      <th>5</th>\n",
       "      <td>1</td>\n",
       "      <td>1</td>\n",
       "      <td>1</td>\n",
       "      <td>1</td>\n",
       "      <td>1</td>\n",
       "      <td>2</td>\n",
       "      <td>1</td>\n",
       "      <td>1</td>\n",
       "      <td>411.888711</td>\n",
       "      <td>183.652871</td>\n",
       "      <td>89.585244</td>\n",
       "      <td>69.665078</td>\n",
       "      <td>-13.835898</td>\n",
       "      <td>-0.239341</td>\n",
       "      <td>2.699502</td>\n",
       "    </tr>\n",
       "  </tbody>\n",
       "</table>\n",
       "</div>"
      ],
      "text/plain": [
       "   ClimateZone  Orientation  WWR  GlazingType  SHGC  OverhangLength  HVAC  \\\n",
       "0            1            1    1            1     1               2     2   \n",
       "1            1            1    1            1     1               2     2   \n",
       "3            1            1    1            1     1               2     3   \n",
       "4            1            1    1            1     1               2     3   \n",
       "5            1            1    1            1     1               2     1   \n",
       "\n",
       "   HeatRecovery        Res1        Res2       Res3       Res4       Res5  \\\n",
       "0             2  179.701833   44.824513  27.460378  29.107106  14.492238   \n",
       "1             3  247.701436   94.849507  44.261433  30.785481  22.934163   \n",
       "3             2  156.872580    7.391012   8.381735   4.069357   7.945456   \n",
       "4             3  274.586239   91.998349  25.470395  17.298031  16.925473   \n",
       "5             1  411.888711  183.652871  89.585244  69.665078 -13.835898   \n",
       "\n",
       "        Res6       Res7  \n",
       "0   2.754323   6.315846  \n",
       "1  -0.320354   3.230305  \n",
       "3   0.488180  -1.296610  \n",
       "4  21.730282  23.278988  \n",
       "5  -0.239341   2.699502  "
      ]
     },
     "execution_count": 216,
     "metadata": {},
     "output_type": "execute_result"
    }
   ],
   "source": [
    "df_check.head()"
   ]
  },
  {
   "cell_type": "code",
   "execution_count": 241,
   "metadata": {
    "ExecuteTime": {
     "end_time": "2018-06-26T04:56:34.753498Z",
     "start_time": "2018-06-26T04:56:33.672808Z"
    }
   },
   "outputs": [
    {
     "data": {
      "image/png": "[encoded data removed]",
      "text/plain": [
       "<Figure size 1800x1080 with 1 Axes>"
      ]
     },
     "metadata": {},
     "output_type": "display_data"
    }
   ],
   "source": [
    "plt.figure(figsize=(25,15))\n",
    "plt.hist(df_check['Res1'], bins=200, fc=(0,0,0.5))\n",
    "plt.title('Error plot across different designs', fontsize=15)\n",
    "plt.xlabel('Error (kWh)', fontsize=14)\n",
    "plt.ylabel('Number of designs', fontsize=14)\n",
    "plt.ylim((0, 20000))\n",
    "plt.xlim((-2000, 2000))\n",
    "plt.savefig(\"Error_plot_res1.jpg\", dpi=200)\n",
    "plt.show()"
   ]
  },
  {
   "cell_type": "code",
   "execution_count": 242,
   "metadata": {
    "ExecuteTime": {
     "end_time": "2018-06-26T04:56:43.804748Z",
     "start_time": "2018-06-26T04:56:43.667121Z"
    },
    "scrolled": true
   },
   "outputs": [
    {
     "data": {
      "text/html": [
       "<div>\n",
       "<style scoped>\n",
       "    .dataframe tbody tr th:only-of-type {\n",
       "        vertical-align: middle;\n",
       "    }\n",
       "\n",
       "    .dataframe tbody tr th {\n",
       "        vertical-align: top;\n",
       "    }\n",
       "\n",
       "    .dataframe thead th {\n",
       "        text-align: right;\n",
       "    }\n",
       "</style>\n",
       "<table border=\"1\" class=\"dataframe\">\n",
       "  <thead>\n",
       "    <tr style=\"text-align: right;\">\n",
       "      <th></th>\n",
       "      <th>ClimateZone</th>\n",
       "      <th>Orientation</th>\n",
       "      <th>WWR</th>\n",
       "      <th>GlazingType</th>\n",
       "      <th>SHGC</th>\n",
       "      <th>OverhangLength</th>\n",
       "      <th>HVAC</th>\n",
       "      <th>HeatRecovery</th>\n",
       "      <th>Res1</th>\n",
       "      <th>Res2</th>\n",
       "      <th>Res3</th>\n",
       "      <th>Res4</th>\n",
       "      <th>Res5</th>\n",
       "      <th>Res6</th>\n",
       "      <th>Res7</th>\n",
       "    </tr>\n",
       "  </thead>\n",
       "  <tbody>\n",
       "    <tr>\n",
       "      <th>33883</th>\n",
       "      <td>6</td>\n",
       "      <td>5</td>\n",
       "      <td>7</td>\n",
       "      <td>1</td>\n",
       "      <td>2</td>\n",
       "      <td>1</td>\n",
       "      <td>1</td>\n",
       "      <td>3</td>\n",
       "      <td>968.166804</td>\n",
       "      <td>805.374080</td>\n",
       "      <td>1432.502986</td>\n",
       "      <td>1481.613826</td>\n",
       "      <td>1665.424007</td>\n",
       "      <td>1635.664363</td>\n",
       "      <td>1566.308894</td>\n",
       "    </tr>\n",
       "    <tr>\n",
       "      <th>33892</th>\n",
       "      <td>6</td>\n",
       "      <td>5</td>\n",
       "      <td>7</td>\n",
       "      <td>1</td>\n",
       "      <td>2</td>\n",
       "      <td>3</td>\n",
       "      <td>1</td>\n",
       "      <td>3</td>\n",
       "      <td>670.935911</td>\n",
       "      <td>555.605588</td>\n",
       "      <td>1143.608274</td>\n",
       "      <td>1292.016233</td>\n",
       "      <td>1321.225217</td>\n",
       "      <td>1237.980832</td>\n",
       "      <td>1309.017698</td>\n",
       "    </tr>\n",
       "    <tr>\n",
       "      <th>33874</th>\n",
       "      <td>6</td>\n",
       "      <td>5</td>\n",
       "      <td>7</td>\n",
       "      <td>1</td>\n",
       "      <td>2</td>\n",
       "      <td>2</td>\n",
       "      <td>1</td>\n",
       "      <td>3</td>\n",
       "      <td>796.814016</td>\n",
       "      <td>669.907034</td>\n",
       "      <td>1237.590628</td>\n",
       "      <td>1315.420706</td>\n",
       "      <td>1364.864187</td>\n",
       "      <td>1357.135183</td>\n",
       "      <td>1289.715139</td>\n",
       "    </tr>\n",
       "    <tr>\n",
       "      <th>33856</th>\n",
       "      <td>6</td>\n",
       "      <td>5</td>\n",
       "      <td>7</td>\n",
       "      <td>1</td>\n",
       "      <td>1</td>\n",
       "      <td>1</td>\n",
       "      <td>1</td>\n",
       "      <td>3</td>\n",
       "      <td>559.938682</td>\n",
       "      <td>545.682578</td>\n",
       "      <td>1052.109336</td>\n",
       "      <td>1112.128989</td>\n",
       "      <td>1148.585410</td>\n",
       "      <td>1040.156699</td>\n",
       "      <td>1147.668906</td>\n",
       "    </tr>\n",
       "    <tr>\n",
       "      <th>33610</th>\n",
       "      <td>6</td>\n",
       "      <td>5</td>\n",
       "      <td>5</td>\n",
       "      <td>2</td>\n",
       "      <td>1</td>\n",
       "      <td>1</td>\n",
       "      <td>2</td>\n",
       "      <td>3</td>\n",
       "      <td>1055.298923</td>\n",
       "      <td>1229.488254</td>\n",
       "      <td>1145.746677</td>\n",
       "      <td>977.583591</td>\n",
       "      <td>984.409030</td>\n",
       "      <td>967.626926</td>\n",
       "      <td>989.929660</td>\n",
       "    </tr>\n",
       "    <tr>\n",
       "      <th>33865</th>\n",
       "      <td>6</td>\n",
       "      <td>5</td>\n",
       "      <td>7</td>\n",
       "      <td>1</td>\n",
       "      <td>1</td>\n",
       "      <td>3</td>\n",
       "      <td>1</td>\n",
       "      <td>3</td>\n",
       "      <td>359.144642</td>\n",
       "      <td>329.501331</td>\n",
       "      <td>785.195789</td>\n",
       "      <td>909.653065</td>\n",
       "      <td>841.217151</td>\n",
       "      <td>667.361439</td>\n",
       "      <td>952.733509</td>\n",
       "    </tr>\n",
       "    <tr>\n",
       "      <th>33847</th>\n",
       "      <td>6</td>\n",
       "      <td>5</td>\n",
       "      <td>7</td>\n",
       "      <td>1</td>\n",
       "      <td>1</td>\n",
       "      <td>2</td>\n",
       "      <td>1</td>\n",
       "      <td>3</td>\n",
       "      <td>428.155070</td>\n",
       "      <td>403.579142</td>\n",
       "      <td>843.280802</td>\n",
       "      <td>908.642863</td>\n",
       "      <td>837.121867</td>\n",
       "      <td>749.486613</td>\n",
       "      <td>940.048869</td>\n",
       "    </tr>\n",
       "    <tr>\n",
       "      <th>33622</th>\n",
       "      <td>6</td>\n",
       "      <td>5</td>\n",
       "      <td>5</td>\n",
       "      <td>2</td>\n",
       "      <td>1</td>\n",
       "      <td>3</td>\n",
       "      <td>1</td>\n",
       "      <td>3</td>\n",
       "      <td>1077.271650</td>\n",
       "      <td>1111.648969</td>\n",
       "      <td>1040.983076</td>\n",
       "      <td>562.994672</td>\n",
       "      <td>641.135541</td>\n",
       "      <td>684.346967</td>\n",
       "      <td>640.159467</td>\n",
       "    </tr>\n",
       "    <tr>\n",
       "      <th>33766</th>\n",
       "      <td>6</td>\n",
       "      <td>5</td>\n",
       "      <td>6</td>\n",
       "      <td>2</td>\n",
       "      <td>1</td>\n",
       "      <td>2</td>\n",
       "      <td>1</td>\n",
       "      <td>3</td>\n",
       "      <td>1477.788342</td>\n",
       "      <td>1416.302380</td>\n",
       "      <td>1257.346570</td>\n",
       "      <td>785.864148</td>\n",
       "      <td>641.440564</td>\n",
       "      <td>583.217908</td>\n",
       "      <td>561.048962</td>\n",
       "    </tr>\n",
       "    <tr>\n",
       "      <th>28338</th>\n",
       "      <td>5</td>\n",
       "      <td>5</td>\n",
       "      <td>7</td>\n",
       "      <td>2</td>\n",
       "      <td>3</td>\n",
       "      <td>3</td>\n",
       "      <td>1</td>\n",
       "      <td>3</td>\n",
       "      <td>776.025746</td>\n",
       "      <td>541.973866</td>\n",
       "      <td>504.684315</td>\n",
       "      <td>437.307362</td>\n",
       "      <td>569.909169</td>\n",
       "      <td>284.012685</td>\n",
       "      <td>543.852284</td>\n",
       "    </tr>\n",
       "    <tr>\n",
       "      <th>33517</th>\n",
       "      <td>6</td>\n",
       "      <td>5</td>\n",
       "      <td>4</td>\n",
       "      <td>2</td>\n",
       "      <td>3</td>\n",
       "      <td>3</td>\n",
       "      <td>1</td>\n",
       "      <td>3</td>\n",
       "      <td>404.476929</td>\n",
       "      <td>433.468384</td>\n",
       "      <td>461.639161</td>\n",
       "      <td>523.599610</td>\n",
       "      <td>499.613892</td>\n",
       "      <td>331.988038</td>\n",
       "      <td>523.505982</td>\n",
       "    </tr>\n",
       "    <tr>\n",
       "      <th>33620</th>\n",
       "      <td>6</td>\n",
       "      <td>5</td>\n",
       "      <td>5</td>\n",
       "      <td>2</td>\n",
       "      <td>1</td>\n",
       "      <td>3</td>\n",
       "      <td>1</td>\n",
       "      <td>1</td>\n",
       "      <td>968.773113</td>\n",
       "      <td>857.270183</td>\n",
       "      <td>769.140056</td>\n",
       "      <td>439.438640</td>\n",
       "      <td>486.511394</td>\n",
       "      <td>484.155193</td>\n",
       "      <td>522.821453</td>\n",
       "    </tr>\n",
       "    <tr>\n",
       "      <th>28329</th>\n",
       "      <td>5</td>\n",
       "      <td>5</td>\n",
       "      <td>7</td>\n",
       "      <td>2</td>\n",
       "      <td>3</td>\n",
       "      <td>1</td>\n",
       "      <td>1</td>\n",
       "      <td>3</td>\n",
       "      <td>958.437461</td>\n",
       "      <td>537.361533</td>\n",
       "      <td>511.942588</td>\n",
       "      <td>381.370078</td>\n",
       "      <td>632.184043</td>\n",
       "      <td>373.943565</td>\n",
       "      <td>486.952110</td>\n",
       "    </tr>\n",
       "    <tr>\n",
       "      <th>33764</th>\n",
       "      <td>6</td>\n",
       "      <td>5</td>\n",
       "      <td>6</td>\n",
       "      <td>2</td>\n",
       "      <td>1</td>\n",
       "      <td>2</td>\n",
       "      <td>1</td>\n",
       "      <td>1</td>\n",
       "      <td>1279.108144</td>\n",
       "      <td>1092.509999</td>\n",
       "      <td>1024.404042</td>\n",
       "      <td>652.443349</td>\n",
       "      <td>599.741201</td>\n",
       "      <td>462.789540</td>\n",
       "      <td>474.160390</td>\n",
       "    </tr>\n",
       "    <tr>\n",
       "      <th>33992</th>\n",
       "      <td>6</td>\n",
       "      <td>5</td>\n",
       "      <td>7</td>\n",
       "      <td>2</td>\n",
       "      <td>3</td>\n",
       "      <td>3</td>\n",
       "      <td>2</td>\n",
       "      <td>1</td>\n",
       "      <td>-203.081386</td>\n",
       "      <td>-152.719570</td>\n",
       "      <td>196.835484</td>\n",
       "      <td>437.113438</td>\n",
       "      <td>400.250157</td>\n",
       "      <td>201.906163</td>\n",
       "      <td>453.845494</td>\n",
       "    </tr>\n",
       "    <tr>\n",
       "      <th>22660</th>\n",
       "      <td>4</td>\n",
       "      <td>5</td>\n",
       "      <td>7</td>\n",
       "      <td>2</td>\n",
       "      <td>3</td>\n",
       "      <td>1</td>\n",
       "      <td>1</td>\n",
       "      <td>3</td>\n",
       "      <td>1228.201097</td>\n",
       "      <td>763.041673</td>\n",
       "      <td>494.685960</td>\n",
       "      <td>404.982102</td>\n",
       "      <td>407.827806</td>\n",
       "      <td>347.342942</td>\n",
       "      <td>448.496751</td>\n",
       "    </tr>\n",
       "    <tr>\n",
       "      <th>33891</th>\n",
       "      <td>6</td>\n",
       "      <td>5</td>\n",
       "      <td>7</td>\n",
       "      <td>1</td>\n",
       "      <td>2</td>\n",
       "      <td>3</td>\n",
       "      <td>1</td>\n",
       "      <td>2</td>\n",
       "      <td>540.309284</td>\n",
       "      <td>369.359577</td>\n",
       "      <td>901.768269</td>\n",
       "      <td>631.711628</td>\n",
       "      <td>598.280232</td>\n",
       "      <td>181.628376</td>\n",
       "      <td>447.516071</td>\n",
       "    </tr>\n",
       "    <tr>\n",
       "      <th>33613</th>\n",
       "      <td>6</td>\n",
       "      <td>5</td>\n",
       "      <td>5</td>\n",
       "      <td>2</td>\n",
       "      <td>1</td>\n",
       "      <td>1</td>\n",
       "      <td>1</td>\n",
       "      <td>3</td>\n",
       "      <td>1184.722714</td>\n",
       "      <td>1212.317441</td>\n",
       "      <td>1014.398739</td>\n",
       "      <td>489.542050</td>\n",
       "      <td>499.272519</td>\n",
       "      <td>493.761777</td>\n",
       "      <td>440.170956</td>\n",
       "    </tr>\n",
       "    <tr>\n",
       "      <th>33631</th>\n",
       "      <td>6</td>\n",
       "      <td>5</td>\n",
       "      <td>5</td>\n",
       "      <td>2</td>\n",
       "      <td>2</td>\n",
       "      <td>2</td>\n",
       "      <td>1</td>\n",
       "      <td>3</td>\n",
       "      <td>1506.872571</td>\n",
       "      <td>1444.146985</td>\n",
       "      <td>1170.977796</td>\n",
       "      <td>670.612073</td>\n",
       "      <td>546.610364</td>\n",
       "      <td>477.086683</td>\n",
       "      <td>420.316907</td>\n",
       "    </tr>\n",
       "    <tr>\n",
       "      <th>33508</th>\n",
       "      <td>6</td>\n",
       "      <td>5</td>\n",
       "      <td>4</td>\n",
       "      <td>2</td>\n",
       "      <td>3</td>\n",
       "      <td>1</td>\n",
       "      <td>1</td>\n",
       "      <td>3</td>\n",
       "      <td>587.852063</td>\n",
       "      <td>549.571301</td>\n",
       "      <td>551.385754</td>\n",
       "      <td>501.587170</td>\n",
       "      <td>598.572033</td>\n",
       "      <td>387.291516</td>\n",
       "      <td>410.304211</td>\n",
       "    </tr>\n",
       "  </tbody>\n",
       "</table>\n",
       "</div>"
      ],
      "text/plain": [
       "       ClimateZone  Orientation  WWR  GlazingType  SHGC  OverhangLength  HVAC  \\\n",
       "33883            6            5    7            1     2               1     1   \n",
       "33892            6            5    7            1     2               3     1   \n",
       "33874            6            5    7            1     2               2     1   \n",
       "33856            6            5    7            1     1               1     1   \n",
       "33610            6            5    5            2     1               1     2   \n",
       "33865            6            5    7            1     1               3     1   \n",
       "33847            6            5    7            1     1               2     1   \n",
       "33622            6            5    5            2     1               3     1   \n",
       "33766            6            5    6            2     1               2     1   \n",
       "28338            5            5    7            2     3               3     1   \n",
       "33517            6            5    4            2     3               3     1   \n",
       "33620            6            5    5            2     1               3     1   \n",
       "28329            5            5    7            2     3               1     1   \n",
       "33764            6            5    6            2     1               2     1   \n",
       "33992            6            5    7            2     3               3     2   \n",
       "22660            4            5    7            2     3               1     1   \n",
       "33891            6            5    7            1     2               3     1   \n",
       "33613            6            5    5            2     1               1     1   \n",
       "33631            6            5    5            2     2               2     1   \n",
       "33508            6            5    4            2     3               1     1   \n",
       "\n",
       "       HeatRecovery         Res1         Res2         Res3         Res4  \\\n",
       "33883             3   968.166804   805.374080  1432.502986  1481.613826   \n",
       "33892             3   670.935911   555.605588  1143.608274  1292.016233   \n",
       "33874             3   796.814016   669.907034  1237.590628  1315.420706   \n",
       "33856             3   559.938682   545.682578  1052.109336  1112.128989   \n",
       "33610             3  1055.298923  1229.488254  1145.746677   977.583591   \n",
       "33865             3   359.144642   329.501331   785.195789   909.653065   \n",
       "33847             3   428.155070   403.579142   843.280802   908.642863   \n",
       "33622             3  1077.271650  1111.648969  1040.983076   562.994672   \n",
       "33766             3  1477.788342  1416.302380  1257.346570   785.864148   \n",
       "28338             3   776.025746   541.973866   504.684315   437.307362   \n",
       "33517             3   404.476929   433.468384   461.639161   523.599610   \n",
       "33620             1   968.773113   857.270183   769.140056   439.438640   \n",
       "28329             3   958.437461   537.361533   511.942588   381.370078   \n",
       "33764             1  1279.108144  1092.509999  1024.404042   652.443349   \n",
       "33992             1  -203.081386  -152.719570   196.835484   437.113438   \n",
       "22660             3  1228.201097   763.041673   494.685960   404.982102   \n",
       "33891             2   540.309284   369.359577   901.768269   631.711628   \n",
       "33613             3  1184.722714  1212.317441  1014.398739   489.542050   \n",
       "33631             3  1506.872571  1444.146985  1170.977796   670.612073   \n",
       "33508             3   587.852063   549.571301   551.385754   501.587170   \n",
       "\n",
       "              Res5         Res6         Res7  \n",
       "33883  1665.424007  1635.664363  1566.308894  \n",
       "33892  1321.225217  1237.980832  1309.017698  \n",
       "33874  1364.864187  1357.135183  1289.715139  \n",
       "33856  1148.585410  1040.156699  1147.668906  \n",
       "33610   984.409030   967.626926   989.929660  \n",
       "33865   841.217151   667.361439   952.733509  \n",
       "33847   837.121867   749.486613   940.048869  \n",
       "33622   641.135541   684.346967   640.159467  \n",
       "33766   641.440564   583.217908   561.048962  \n",
       "28338   569.909169   284.012685   543.852284  \n",
       "33517   499.613892   331.988038   523.505982  \n",
       "33620   486.511394   484.155193   522.821453  \n",
       "28329   632.184043   373.943565   486.952110  \n",
       "33764   599.741201   462.789540   474.160390  \n",
       "33992   400.250157   201.906163   453.845494  \n",
       "22660   407.827806   347.342942   448.496751  \n",
       "33891   598.280232   181.628376   447.516071  \n",
       "33613   499.272519   493.761777   440.170956  \n",
       "33631   546.610364   477.086683   420.316907  \n",
       "33508   598.572033   387.291516   410.304211  "
      ]
     },
     "execution_count": 242,
     "metadata": {},
     "output_type": "execute_result"
    }
   ],
   "source": [
    "df_check.iloc[res.argsort(axis=0)[-20:][::-1].flatten(), :]"
   ]
  },
  {
   "cell_type": "code",
   "execution_count": 246,
   "metadata": {
    "ExecuteTime": {
     "end_time": "2018-06-26T04:58:57.841897Z",
     "start_time": "2018-06-26T04:58:57.709258Z"
    },
    "scrolled": true
   },
   "outputs": [
    {
     "data": {
      "text/html": [
       "<div>\n",
       "<style scoped>\n",
       "    .dataframe tbody tr th:only-of-type {\n",
       "        vertical-align: middle;\n",
       "    }\n",
       "\n",
       "    .dataframe tbody tr th {\n",
       "        vertical-align: top;\n",
       "    }\n",
       "\n",
       "    .dataframe thead th {\n",
       "        text-align: right;\n",
       "    }\n",
       "</style>\n",
       "<table border=\"1\" class=\"dataframe\">\n",
       "  <thead>\n",
       "    <tr style=\"text-align: right;\">\n",
       "      <th></th>\n",
       "      <th>ClimateZone</th>\n",
       "      <th>Orientation</th>\n",
       "      <th>WWR</th>\n",
       "      <th>GlazingType</th>\n",
       "      <th>SHGC</th>\n",
       "      <th>OverhangLength</th>\n",
       "      <th>HVAC</th>\n",
       "      <th>HeatRecovery</th>\n",
       "      <th>Res1</th>\n",
       "      <th>Res2</th>\n",
       "      <th>Res3</th>\n",
       "      <th>Res4</th>\n",
       "      <th>Res5</th>\n",
       "      <th>Res6</th>\n",
       "      <th>Res7</th>\n",
       "    </tr>\n",
       "  </thead>\n",
       "  <tbody>\n",
       "    <tr>\n",
       "      <th>33847</th>\n",
       "      <td>6</td>\n",
       "      <td>5</td>\n",
       "      <td>7</td>\n",
       "      <td>1</td>\n",
       "      <td>1</td>\n",
       "      <td>2</td>\n",
       "      <td>1</td>\n",
       "      <td>3</td>\n",
       "      <td>428.155070</td>\n",
       "      <td>403.579142</td>\n",
       "      <td>843.280802</td>\n",
       "      <td>908.642863</td>\n",
       "      <td>837.121867</td>\n",
       "      <td>749.486613</td>\n",
       "      <td>940.048869</td>\n",
       "    </tr>\n",
       "    <tr>\n",
       "      <th>33856</th>\n",
       "      <td>6</td>\n",
       "      <td>5</td>\n",
       "      <td>7</td>\n",
       "      <td>1</td>\n",
       "      <td>1</td>\n",
       "      <td>1</td>\n",
       "      <td>1</td>\n",
       "      <td>3</td>\n",
       "      <td>559.938682</td>\n",
       "      <td>545.682578</td>\n",
       "      <td>1052.109336</td>\n",
       "      <td>1112.128989</td>\n",
       "      <td>1148.585410</td>\n",
       "      <td>1040.156699</td>\n",
       "      <td>1147.668906</td>\n",
       "    </tr>\n",
       "    <tr>\n",
       "      <th>33865</th>\n",
       "      <td>6</td>\n",
       "      <td>5</td>\n",
       "      <td>7</td>\n",
       "      <td>1</td>\n",
       "      <td>1</td>\n",
       "      <td>3</td>\n",
       "      <td>1</td>\n",
       "      <td>3</td>\n",
       "      <td>359.144642</td>\n",
       "      <td>329.501331</td>\n",
       "      <td>785.195789</td>\n",
       "      <td>909.653065</td>\n",
       "      <td>841.217151</td>\n",
       "      <td>667.361439</td>\n",
       "      <td>952.733509</td>\n",
       "    </tr>\n",
       "    <tr>\n",
       "      <th>33874</th>\n",
       "      <td>6</td>\n",
       "      <td>5</td>\n",
       "      <td>7</td>\n",
       "      <td>1</td>\n",
       "      <td>2</td>\n",
       "      <td>2</td>\n",
       "      <td>1</td>\n",
       "      <td>3</td>\n",
       "      <td>796.814016</td>\n",
       "      <td>669.907034</td>\n",
       "      <td>1237.590628</td>\n",
       "      <td>1315.420706</td>\n",
       "      <td>1364.864187</td>\n",
       "      <td>1357.135183</td>\n",
       "      <td>1289.715139</td>\n",
       "    </tr>\n",
       "    <tr>\n",
       "      <th>33883</th>\n",
       "      <td>6</td>\n",
       "      <td>5</td>\n",
       "      <td>7</td>\n",
       "      <td>1</td>\n",
       "      <td>2</td>\n",
       "      <td>1</td>\n",
       "      <td>1</td>\n",
       "      <td>3</td>\n",
       "      <td>968.166804</td>\n",
       "      <td>805.374080</td>\n",
       "      <td>1432.502986</td>\n",
       "      <td>1481.613826</td>\n",
       "      <td>1665.424007</td>\n",
       "      <td>1635.664363</td>\n",
       "      <td>1566.308894</td>\n",
       "    </tr>\n",
       "    <tr>\n",
       "      <th>33892</th>\n",
       "      <td>6</td>\n",
       "      <td>5</td>\n",
       "      <td>7</td>\n",
       "      <td>1</td>\n",
       "      <td>2</td>\n",
       "      <td>3</td>\n",
       "      <td>1</td>\n",
       "      <td>3</td>\n",
       "      <td>670.935911</td>\n",
       "      <td>555.605588</td>\n",
       "      <td>1143.608274</td>\n",
       "      <td>1292.016233</td>\n",
       "      <td>1321.225217</td>\n",
       "      <td>1237.980832</td>\n",
       "      <td>1309.017698</td>\n",
       "    </tr>\n",
       "    <tr>\n",
       "      <th>33901</th>\n",
       "      <td>6</td>\n",
       "      <td>5</td>\n",
       "      <td>7</td>\n",
       "      <td>1</td>\n",
       "      <td>3</td>\n",
       "      <td>2</td>\n",
       "      <td>1</td>\n",
       "      <td>3</td>\n",
       "      <td>-1637.730078</td>\n",
       "      <td>-1761.288671</td>\n",
       "      <td>-1051.148779</td>\n",
       "      <td>-353.475073</td>\n",
       "      <td>-235.042822</td>\n",
       "      <td>35.379053</td>\n",
       "      <td>-83.449072</td>\n",
       "    </tr>\n",
       "  </tbody>\n",
       "</table>\n",
       "</div>"
      ],
      "text/plain": [
       "       ClimateZone  Orientation  WWR  GlazingType  SHGC  OverhangLength  HVAC  \\\n",
       "33847            6            5    7            1     1               2     1   \n",
       "33856            6            5    7            1     1               1     1   \n",
       "33865            6            5    7            1     1               3     1   \n",
       "33874            6            5    7            1     2               2     1   \n",
       "33883            6            5    7            1     2               1     1   \n",
       "33892            6            5    7            1     2               3     1   \n",
       "33901            6            5    7            1     3               2     1   \n",
       "\n",
       "       HeatRecovery         Res1         Res2         Res3         Res4  \\\n",
       "33847             3   428.155070   403.579142   843.280802   908.642863   \n",
       "33856             3   559.938682   545.682578  1052.109336  1112.128989   \n",
       "33865             3   359.144642   329.501331   785.195789   909.653065   \n",
       "33874             3   796.814016   669.907034  1237.590628  1315.420706   \n",
       "33883             3   968.166804   805.374080  1432.502986  1481.613826   \n",
       "33892             3   670.935911   555.605588  1143.608274  1292.016233   \n",
       "33901             3 -1637.730078 -1761.288671 -1051.148779  -353.475073   \n",
       "\n",
       "              Res5         Res6         Res7  \n",
       "33847   837.121867   749.486613   940.048869  \n",
       "33856  1148.585410  1040.156699  1147.668906  \n",
       "33865   841.217151   667.361439   952.733509  \n",
       "33874  1364.864187  1357.135183  1289.715139  \n",
       "33883  1665.424007  1635.664363  1566.308894  \n",
       "33892  1321.225217  1237.980832  1309.017698  \n",
       "33901  -235.042822    35.379053   -83.449072  "
      ]
     },
     "execution_count": 246,
     "metadata": {},
     "output_type": "execute_result"
    }
   ],
   "source": [
    "df_check[(df_check['ClimateZone'] == 6) & (df_check['Orientation'] == 5) & (df_check['WWR'] == 7) \n",
    "         & (df_check['GlazingType'] == 1) & (df_check['HVAC'] == 1) & (df_check['HeatRecovery'] == 3)]"
   ]
  },
  {
   "cell_type": "code",
   "execution_count": 247,
   "metadata": {
    "ExecuteTime": {
     "end_time": "2018-06-26T04:59:07.611198Z",
     "start_time": "2018-06-26T04:59:07.481513Z"
    }
   },
   "outputs": [
    {
     "data": {
      "text/html": [
       "<div>\n",
       "<style scoped>\n",
       "    .dataframe tbody tr th:only-of-type {\n",
       "        vertical-align: middle;\n",
       "    }\n",
       "\n",
       "    .dataframe tbody tr th {\n",
       "        vertical-align: top;\n",
       "    }\n",
       "\n",
       "    .dataframe thead th {\n",
       "        text-align: right;\n",
       "    }\n",
       "</style>\n",
       "<table border=\"1\" class=\"dataframe\">\n",
       "  <thead>\n",
       "    <tr style=\"text-align: right;\">\n",
       "      <th></th>\n",
       "      <th>ClimateZone</th>\n",
       "      <th>Orientation</th>\n",
       "      <th>WWR</th>\n",
       "      <th>GlazingType</th>\n",
       "      <th>SHGC</th>\n",
       "      <th>OverhangLength</th>\n",
       "      <th>HVAC</th>\n",
       "      <th>HeatRecovery</th>\n",
       "      <th>Consumption</th>\n",
       "    </tr>\n",
       "  </thead>\n",
       "  <tbody>\n",
       "    <tr>\n",
       "      <th>33765</th>\n",
       "      <td>6</td>\n",
       "      <td>West</td>\n",
       "      <td>70</td>\n",
       "      <td>TP</td>\n",
       "      <td>0.2</td>\n",
       "      <td>0.5</td>\n",
       "      <td>7</td>\n",
       "      <td>1</td>\n",
       "      <td>3511.206959</td>\n",
       "    </tr>\n",
       "  </tbody>\n",
       "</table>\n",
       "</div>"
      ],
      "text/plain": [
       "      ClimateZone Orientation WWR GlazingType SHGC OverhangLength HVAC  \\\n",
       "33765           6        West  70          TP  0.2            0.5    7   \n",
       "\n",
       "      HeatRecovery  Consumption  \n",
       "33765            1  3511.206959  "
      ]
     },
     "execution_count": 247,
     "metadata": {},
     "output_type": "execute_result"
    }
   ],
   "source": [
    "train_data[(train_data['ClimateZone'] == 6) & (train_data['Orientation'] == 'West') & (train_data['WWR'] == 70) \n",
    "         & (train_data['GlazingType'] == 'TP') & (train_data['HVAC'] == 7) & (train_data['OverhangLength'] == 0.5)]"
   ]
  },
  {
   "cell_type": "code",
   "execution_count": null,
   "metadata": {},
   "outputs": [],
   "source": []
  }
 ],
 "metadata": {
  "anaconda-cloud": {},
  "kernelspec": {
   "display_name": "Python 3",
   "language": "python",
   "name": "python3"
  },
  "language_info": {
   "codemirror_mode": {
    "name": "ipython",
    "version": 3
   },
   "file_extension": ".py",
   "mimetype": "text/x-python",
   "name": "python",
   "nbconvert_exporter": "python",
   "pygments_lexer": "ipython3",
   "version": "3.6.5"
  },
  "toc": {
   "base_numbering": 1,
   "nav_menu": {
    "height": "173px",
    "width": "251px"
   },
   "number_sections": true,
   "sideBar": true,
   "skip_h1_title": false,
   "title_cell": "Table of Contents",
   "title_sidebar": "Contents",
   "toc_cell": false,
   "toc_position": {},
   "toc_section_display": "block",
   "toc_window_display": false
  }
 },
 "nbformat": 4,
 "nbformat_minor": 2
}
